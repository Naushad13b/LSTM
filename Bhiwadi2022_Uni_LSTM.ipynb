{
 "cells": [
  {
   "cell_type": "code",
   "execution_count": 146,
   "id": "e93948fe",
   "metadata": {},
   "outputs": [],
   "source": [
    "import pandas as pd\n",
    "import numpy as np"
   ]
  },
  {
   "cell_type": "code",
   "execution_count": 147,
   "id": "29246881",
   "metadata": {},
   "outputs": [
    {
     "data": {
      "text/html": [
       "<div>\n",
       "<style scoped>\n",
       "    .dataframe tbody tr th:only-of-type {\n",
       "        vertical-align: middle;\n",
       "    }\n",
       "\n",
       "    .dataframe tbody tr th {\n",
       "        vertical-align: top;\n",
       "    }\n",
       "\n",
       "    .dataframe thead th {\n",
       "        text-align: right;\n",
       "    }\n",
       "</style>\n",
       "<table border=\"1\" class=\"dataframe\">\n",
       "  <thead>\n",
       "    <tr style=\"text-align: right;\">\n",
       "      <th></th>\n",
       "      <th>PM2.5</th>\n",
       "    </tr>\n",
       "    <tr>\n",
       "      <th>DateTime</th>\n",
       "      <th></th>\n",
       "    </tr>\n",
       "  </thead>\n",
       "  <tbody>\n",
       "    <tr>\n",
       "      <th>2021-01-01 00:00:00</th>\n",
       "      <td>389.82</td>\n",
       "    </tr>\n",
       "    <tr>\n",
       "      <th>2021-01-01 01:00:00</th>\n",
       "      <td>396.16</td>\n",
       "    </tr>\n",
       "    <tr>\n",
       "      <th>2021-01-01 02:00:00</th>\n",
       "      <td>332.44</td>\n",
       "    </tr>\n",
       "    <tr>\n",
       "      <th>2021-01-01 03:00:00</th>\n",
       "      <td>274.54</td>\n",
       "    </tr>\n",
       "    <tr>\n",
       "      <th>2021-01-01 04:00:00</th>\n",
       "      <td>294.05</td>\n",
       "    </tr>\n",
       "  </tbody>\n",
       "</table>\n",
       "</div>"
      ],
      "text/plain": [
       "                      PM2.5\n",
       "DateTime                   \n",
       "2021-01-01 00:00:00  389.82\n",
       "2021-01-01 01:00:00  396.16\n",
       "2021-01-01 02:00:00  332.44\n",
       "2021-01-01 03:00:00  274.54\n",
       "2021-01-01 04:00:00  294.05"
      ]
     },
     "execution_count": 147,
     "metadata": {},
     "output_type": "execute_result"
    }
   ],
   "source": [
    "# Import data using datetime and set index to datetime\n",
    "df = pd.read_csv(r'C:\\Users\\91783\\Desktop\\Bhiwadi_hourly\\Bhiwadi2022_Uni_LSTM.csv',\n",
    "                                parse_dates=['DateTime'],\n",
    "                                index_col=['DateTime'])\n",
    "\n",
    "df.head()"
   ]
  },
  {
   "cell_type": "code",
   "execution_count": 148,
   "id": "0d702398",
   "metadata": {},
   "outputs": [
    {
     "name": "stdout",
     "output_type": "stream",
     "text": [
      "<class 'pandas.core.frame.DataFrame'>\n",
      "DatetimeIndex: 12833 entries, 2021-01-01 00:00:00 to 2022-06-19 16:00:00\n",
      "Data columns (total 1 columns):\n",
      " #   Column  Non-Null Count  Dtype  \n",
      "---  ------  --------------  -----  \n",
      " 0   PM2.5   12833 non-null  float64\n",
      "dtypes: float64(1)\n",
      "memory usage: 200.5 KB\n"
     ]
    }
   ],
   "source": [
    " df.info()"
   ]
  },
  {
   "cell_type": "code",
   "execution_count": 149,
   "id": "17d584f2",
   "metadata": {},
   "outputs": [
    {
     "data": {
      "text/plain": [
       "<AxesSubplot:>"
      ]
     },
     "execution_count": 149,
     "metadata": {},
     "output_type": "execute_result"
    },
    {
     "data": {
      "image/png": "[encoded data removed]",
      "text/plain": [
       "<Figure size 640x480 with 1 Axes>"
      ]
     },
     "metadata": {},
     "output_type": "display_data"
    }
   ],
   "source": [
    " #Box plot\n",
    "#pd.options.display.mpl_style = False\n",
    "df.boxplot()"
   ]
  },
  {
   "cell_type": "code",
   "execution_count": 150,
   "id": "5a82b03e",
   "metadata": {},
   "outputs": [],
   "source": [
    "#Normalising data\n",
    "from sklearn.preprocessing import MinMaxScaler\n",
    "\n",
    "values = df.values\n",
    "scaler = MinMaxScaler(feature_range=(0, 1))\n",
    "scaled_dataset = scaler.fit_transform(values)"
   ]
  },
  {
   "cell_type": "code",
   "execution_count": 151,
   "id": "9d120c67",
   "metadata": {},
   "outputs": [
    {
     "data": {
      "text/plain": [
       "array([[0.58099809],\n",
       "       [0.59044837]])"
      ]
     },
     "execution_count": 151,
     "metadata": {},
     "output_type": "execute_result"
    }
   ],
   "source": [
    "scaled_dataset[:2,:]"
   ]
  },
  {
   "cell_type": "code",
   "execution_count": 152,
   "id": "237c4c95",
   "metadata": {},
   "outputs": [],
   "source": [
    "#Creating a window for previous data\n",
    "def to_supervised(train):\n",
    "  window_size = 4\n",
    "  X = []\n",
    "  Y = []\n",
    "  for i in range(window_size, len(train)):\n",
    "    X.append(train[i-window_size:i,:])\n",
    "    Y.append(train[i,0:1])\n",
    "    \n",
    "  return X,Y"
   ]
  },
  {
   "cell_type": "code",
   "execution_count": 153,
   "id": "698c16e5",
   "metadata": {},
   "outputs": [
    {
     "name": "stdout",
     "output_type": "stream",
     "text": [
      "Y (12829, 1)\n",
      "X (12829, 4, 1)\n"
     ]
    }
   ],
   "source": [
    "X, Y = to_supervised(scaled_dataset)\n",
    "X = np.array(X)\n",
    "Y = np.array(Y)\n",
    "print('Y' ,Y.shape)\n",
    "print('X' ,X.shape)"
   ]
  },
  {
   "cell_type": "code",
   "execution_count": 154,
   "id": "da54eaab",
   "metadata": {},
   "outputs": [
    {
     "name": "stdout",
     "output_type": "stream",
     "text": [
      "X_train (10264, 4, 1)\n",
      "X_test (2565, 4, 1)\n",
      "Y_train (10264, 1)\n",
      "Y_test (2565, 1)\n"
     ]
    }
   ],
   "source": [
    "#Splitting the dataset 12829*0.2=2565 => - 10264\n",
    "#Splitting the dataset 12829*0.3=8981 => -8981\n",
    "n_train = 2565\n",
    "X_train, X_test = X[n_train:,] , X[:n_train,]\n",
    "print('X_train' ,X_train.shape)\n",
    "print('X_test' ,X_test.shape)\n",
    "\n",
    "Y_train, Y_test = Y[n_train:,] , Y[:n_train,]\n",
    "print('Y_train' ,Y_train.shape)\n",
    "print('Y_test' ,Y_test.shape)"
   ]
  },
  {
   "cell_type": "code",
   "execution_count": 155,
   "id": "167a4daa",
   "metadata": {},
   "outputs": [],
   "source": [
    "#Importing LSTM model\n",
    "from tensorflow import keras\n",
    "from tensorflow.keras import layers\n",
    "from keras.models import Sequential\n",
    "from keras.layers import Dense, Dropout,LSTM\n",
    "import tensorflow as tf\n",
    "model = Sequential()\n",
    "\n",
    "#units means number of neurons\n",
    "model.add(LSTM(units = 100, return_sequences = True, input_shape=(X_train.shape[1], X_train.shape[2])))\n",
    "model.add(Dropout(0.2))\n",
    "\n",
    "model.add(LSTM(units = 100, return_sequences = True))\n",
    "model.add(Dropout(0.2))\n",
    "\n",
    "model.add(LSTM(units = 100))\n",
    "model.add(Dropout(0.2))\n",
    "\n",
    "model.add(Dense(units = 1))\n",
    "\n",
    " \n",
    "#opt1 = tf.keras.optimizers.SGD(learning_rate=0.001, momentum=0.0, nesterov=False, name=\"SGD\")\n",
    "\n",
    "opt = keras.optimizers.Adam(learning_rate=0.1)\n",
    "model.compile(loss='mean_squared_error', optimizer=opt)"
   ]
  },
  {
   "cell_type": "code",
   "execution_count": 156,
   "id": "0eb379b5",
   "metadata": {
    "scrolled": false
   },
   "outputs": [
    {
     "name": "stdout",
     "output_type": "stream",
     "text": [
      "Epoch 1/50\n",
      "321/321 - 10s - loss: 0.1444 - val_loss: 0.0177 - 10s/epoch - 32ms/step\n",
      "Epoch 2/50\n",
      "321/321 - 6s - loss: 0.0375 - val_loss: 0.0173 - 6s/epoch - 18ms/step\n",
      "Epoch 3/50\n",
      "321/321 - 6s - loss: 0.0604 - val_loss: 0.0134 - 6s/epoch - 18ms/step\n",
      "Epoch 4/50\n",
      "321/321 - 6s - loss: 0.0801 - val_loss: 0.0306 - 6s/epoch - 18ms/step\n",
      "Epoch 5/50\n",
      "321/321 - 6s - loss: 0.0608 - val_loss: 0.0143 - 6s/epoch - 18ms/step\n",
      "Epoch 6/50\n",
      "321/321 - 6s - loss: 0.0599 - val_loss: 0.0114 - 6s/epoch - 18ms/step\n",
      "Epoch 7/50\n",
      "321/321 - 6s - loss: 0.0689 - val_loss: 0.0133 - 6s/epoch - 18ms/step\n",
      "Epoch 8/50\n",
      "321/321 - 6s - loss: 0.0569 - val_loss: 0.0163 - 6s/epoch - 18ms/step\n",
      "Epoch 9/50\n",
      "321/321 - 6s - loss: 0.0580 - val_loss: 0.0340 - 6s/epoch - 18ms/step\n",
      "Epoch 10/50\n",
      "321/321 - 6s - loss: 0.0652 - val_loss: 0.0549 - 6s/epoch - 18ms/step\n",
      "Epoch 11/50\n",
      "321/321 - 6s - loss: 0.0644 - val_loss: 0.0199 - 6s/epoch - 18ms/step\n",
      "Epoch 12/50\n",
      "321/321 - 6s - loss: 0.0627 - val_loss: 0.0246 - 6s/epoch - 18ms/step\n",
      "Epoch 13/50\n",
      "321/321 - 6s - loss: 0.0652 - val_loss: 0.0229 - 6s/epoch - 18ms/step\n",
      "Epoch 14/50\n",
      "321/321 - 6s - loss: 0.0588 - val_loss: 0.0385 - 6s/epoch - 18ms/step\n",
      "Epoch 15/50\n",
      "321/321 - 6s - loss: 0.0640 - val_loss: 0.0128 - 6s/epoch - 19ms/step\n",
      "Epoch 16/50\n",
      "321/321 - 6s - loss: 0.0616 - val_loss: 0.0139 - 6s/epoch - 18ms/step\n",
      "Epoch 17/50\n",
      "321/321 - 6s - loss: 0.0702 - val_loss: 0.0250 - 6s/epoch - 18ms/step\n",
      "Epoch 18/50\n",
      "321/321 - 6s - loss: 0.0662 - val_loss: 0.0126 - 6s/epoch - 18ms/step\n",
      "Epoch 19/50\n",
      "321/321 - 6s - loss: 0.0633 - val_loss: 0.0126 - 6s/epoch - 18ms/step\n",
      "Epoch 20/50\n",
      "321/321 - 6s - loss: 0.0674 - val_loss: 0.0213 - 6s/epoch - 18ms/step\n",
      "Epoch 21/50\n",
      "321/321 - 6s - loss: 0.0692 - val_loss: 0.0180 - 6s/epoch - 18ms/step\n",
      "Epoch 22/50\n",
      "321/321 - 6s - loss: 0.0517 - val_loss: 0.0166 - 6s/epoch - 18ms/step\n",
      "Epoch 23/50\n",
      "321/321 - 6s - loss: 0.0604 - val_loss: 0.0154 - 6s/epoch - 18ms/step\n",
      "Epoch 24/50\n",
      "321/321 - 6s - loss: 0.0615 - val_loss: 0.0097 - 6s/epoch - 18ms/step\n",
      "Epoch 25/50\n",
      "321/321 - 6s - loss: 0.0605 - val_loss: 0.0096 - 6s/epoch - 18ms/step\n",
      "Epoch 26/50\n",
      "321/321 - 6s - loss: 0.0643 - val_loss: 0.0109 - 6s/epoch - 18ms/step\n",
      "Epoch 27/50\n",
      "321/321 - 6s - loss: 0.0778 - val_loss: 0.0130 - 6s/epoch - 18ms/step\n",
      "Epoch 28/50\n",
      "321/321 - 6s - loss: 0.0526 - val_loss: 0.0124 - 6s/epoch - 18ms/step\n",
      "Epoch 29/50\n",
      "321/321 - 6s - loss: 0.0749 - val_loss: 0.0195 - 6s/epoch - 18ms/step\n",
      "Epoch 30/50\n",
      "321/321 - 6s - loss: 0.0565 - val_loss: 0.0214 - 6s/epoch - 18ms/step\n",
      "Epoch 31/50\n",
      "321/321 - 6s - loss: 0.0606 - val_loss: 0.0177 - 6s/epoch - 18ms/step\n",
      "Epoch 32/50\n",
      "321/321 - 6s - loss: 0.0532 - val_loss: 0.0152 - 6s/epoch - 18ms/step\n",
      "Epoch 33/50\n",
      "321/321 - 6s - loss: 0.0660 - val_loss: 0.0282 - 6s/epoch - 18ms/step\n",
      "Epoch 34/50\n",
      "321/321 - 6s - loss: 0.0599 - val_loss: 0.0125 - 6s/epoch - 18ms/step\n",
      "Epoch 35/50\n",
      "321/321 - 6s - loss: 0.0582 - val_loss: 0.0261 - 6s/epoch - 18ms/step\n",
      "Epoch 36/50\n",
      "321/321 - 6s - loss: 0.0683 - val_loss: 0.0256 - 6s/epoch - 18ms/step\n",
      "Epoch 37/50\n",
      "321/321 - 6s - loss: 0.0570 - val_loss: 0.0111 - 6s/epoch - 18ms/step\n",
      "Epoch 38/50\n",
      "321/321 - 6s - loss: 0.0669 - val_loss: 0.0160 - 6s/epoch - 18ms/step\n",
      "Epoch 39/50\n",
      "321/321 - 6s - loss: 0.0553 - val_loss: 0.0104 - 6s/epoch - 18ms/step\n",
      "Epoch 40/50\n",
      "321/321 - 6s - loss: 0.0652 - val_loss: 0.0137 - 6s/epoch - 18ms/step\n",
      "Epoch 41/50\n",
      "321/321 - 6s - loss: 0.0585 - val_loss: 0.0124 - 6s/epoch - 18ms/step\n",
      "Epoch 42/50\n",
      "321/321 - 6s - loss: 0.0612 - val_loss: 0.0131 - 6s/epoch - 18ms/step\n",
      "Epoch 43/50\n",
      "321/321 - 6s - loss: 0.0631 - val_loss: 0.0182 - 6s/epoch - 18ms/step\n",
      "Epoch 44/50\n",
      "321/321 - 6s - loss: 0.0576 - val_loss: 0.0315 - 6s/epoch - 18ms/step\n",
      "Epoch 45/50\n",
      "321/321 - 6s - loss: 0.0653 - val_loss: 0.0151 - 6s/epoch - 18ms/step\n",
      "Epoch 46/50\n",
      "321/321 - 6s - loss: 0.0532 - val_loss: 0.0101 - 6s/epoch - 19ms/step\n",
      "Epoch 47/50\n",
      "321/321 - 6s - loss: 0.0636 - val_loss: 0.0222 - 6s/epoch - 18ms/step\n",
      "Epoch 48/50\n",
      "321/321 - 6s - loss: 0.0599 - val_loss: 0.0227 - 6s/epoch - 18ms/step\n",
      "Epoch 49/50\n",
      "321/321 - 6s - loss: 0.0693 - val_loss: 0.0179 - 6s/epoch - 18ms/step\n",
      "Epoch 50/50\n",
      "321/321 - 6s - loss: 0.0541 - val_loss: 0.0183 - 6s/epoch - 18ms/step\n"
     ]
    }
   ],
   "source": [
    "history = model.fit(X_train, Y_train, epochs=50,\n",
    "                    batch_size=32, validation_data=(X_test, Y_test),\n",
    "                    verbose=2, shuffle=False)"
   ]
  },
  {
   "cell_type": "code",
   "execution_count": 157,
   "id": "37d6399a",
   "metadata": {},
   "outputs": [
    {
     "name": "stdout",
     "output_type": "stream",
     "text": [
      "81/81 [==============================] - 1s 4ms/step\n",
      "0.018340855255277372\n",
      "0.13542841376637832\n"
     ]
    }
   ],
   "source": [
    "#Taking predictions\n",
    "Y_pred = model.predict(X_test)\n",
    "\n",
    "from sklearn.metrics import mean_squared_error\n",
    "mse = mean_squared_error(Y_test, Y_pred)\n",
    "\n",
    "print(mse)\n",
    "rmse = np.sqrt(mse)\n",
    "print(rmse)"
   ]
  },
  {
   "cell_type": "code",
   "execution_count": 158,
   "id": "d5996ba7",
   "metadata": {},
   "outputs": [
    {
     "name": "stdout",
     "output_type": "stream",
     "text": [
      "MAPE 113.08025866337898\n"
     ]
    }
   ],
   "source": [
    "def mean_absolute_percentage_error(y_true, y_pred): \n",
    "    y_true, y_pred = np.array(y_true), np.array(y_pred)\n",
    "    return np.mean(np.abs((y_true - y_pred) / y_true)) * 100\n",
    "\n",
    "mape = mean_absolute_percentage_error(Y_test, Y_pred)\n",
    "print('MAPE', mape)"
   ]
  },
  {
   "cell_type": "code",
   "execution_count": 159,
   "id": "7e34907f",
   "metadata": {},
   "outputs": [
    {
     "data": {
      "text/plain": [
       "-0.9085972926102661"
      ]
     },
     "execution_count": 159,
     "metadata": {},
     "output_type": "execute_result"
    }
   ],
   "source": [
    "from sklearn.metrics import r2_score\n",
    "r2 = r2_score(Y_test, Y_pred)\n",
    "r2"
   ]
  },
  {
   "cell_type": "code",
   "execution_count": 160,
   "id": "647fecf8",
   "metadata": {},
   "outputs": [
    {
     "data": {
      "image/png": "[encoded data removed]",
      "text/plain": [
       "<Figure size 640x480 with 1 Axes>"
      ]
     },
     "metadata": {},
     "output_type": "display_data"
    }
   ],
   "source": [
    "# plot history\n",
    "import matplotlib.pyplot as plt\n",
    "plt.plot(history.history['loss'], label='train_loss')\n",
    "plt.plot(history.history['val_loss'], label='Val_loss')\n",
    "plt.legend()\n",
    "plt.show()"
   ]
  },
  {
   "cell_type": "code",
   "execution_count": 161,
   "id": "d65ba63e",
   "metadata": {},
   "outputs": [
    {
     "name": "stdout",
     "output_type": "stream",
     "text": [
      "ME\n",
      "0.09344118923235542\n",
      "MAE\n",
      "0.11766436486214321\n",
      "MPE\n",
      "1.0733478678387491\n",
      "RMSE\n",
      "0.13542841376637832\n"
     ]
    }
   ],
   "source": [
    "me = np.mean(Y_pred - Y_test)\n",
    "print('ME')\n",
    "print(me)\n",
    "mae = np.mean(np.abs(Y_pred - Y_test))    # MAE\n",
    "print('MAE')\n",
    "print(mae)\n",
    "mpe = np.mean((Y_pred - Y_test)/Y_test)   # MPE\n",
    "print('MPE')\n",
    "print(mpe)\n",
    "rmse = np.mean((Y_pred - Y_test)**2)**.5  # RMSE\n",
    "print('RMSE')\n",
    "print(rmse)\n",
    " "
   ]
  },
  {
   "cell_type": "code",
   "execution_count": null,
   "id": "93f116c4",
   "metadata": {},
   "outputs": [],
   "source": []
  }
 ],
 "metadata": {
  "kernelspec": {
   "display_name": "Python 3 (ipykernel)",
   "language": "python",
   "name": "python3"
  },
  "language_info": {
   "codemirror_mode": {
    "name": "ipython",
    "version": 3
   },
   "file_extension": ".py",
   "mimetype": "text/x-python",
   "name": "python",
   "nbconvert_exporter": "python",
   "pygments_lexer": "ipython3",
   "version": "3.9.7"
  }
 },
 "nbformat": 4,
 "nbformat_minor": 5
}
