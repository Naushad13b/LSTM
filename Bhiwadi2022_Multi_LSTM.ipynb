{
 "cells": [
  {
   "cell_type": "code",
   "execution_count": 77,
   "id": "03f84b9f",
   "metadata": {},
   "outputs": [],
   "source": [
    "import pandas as pd\n",
    "import numpy as np\n",
    "import matplotlib.pyplot as plt\n",
    "import matplotlib.pyplot as plt"
   ]
  },
  {
   "cell_type": "code",
   "execution_count": 78,
   "id": "5564dbf5",
   "metadata": {},
   "outputs": [
    {
     "data": {
      "text/html": [
       "<div>\n",
       "<style scoped>\n",
       "    .dataframe tbody tr th:only-of-type {\n",
       "        vertical-align: middle;\n",
       "    }\n",
       "\n",
       "    .dataframe tbody tr th {\n",
       "        vertical-align: top;\n",
       "    }\n",
       "\n",
       "    .dataframe thead th {\n",
       "        text-align: right;\n",
       "    }\n",
       "</style>\n",
       "<table border=\"1\" class=\"dataframe\">\n",
       "  <thead>\n",
       "    <tr style=\"text-align: right;\">\n",
       "      <th></th>\n",
       "      <th>PM2.5</th>\n",
       "      <th>PM10</th>\n",
       "      <th>NO</th>\n",
       "      <th>NO2</th>\n",
       "      <th>SO2</th>\n",
       "      <th>CO</th>\n",
       "      <th>Ozone</th>\n",
       "      <th>Temp</th>\n",
       "      <th>RH</th>\n",
       "      <th>WS</th>\n",
       "      <th>WD</th>\n",
       "      <th>SR</th>\n",
       "    </tr>\n",
       "    <tr>\n",
       "      <th>DateTime</th>\n",
       "      <th></th>\n",
       "      <th></th>\n",
       "      <th></th>\n",
       "      <th></th>\n",
       "      <th></th>\n",
       "      <th></th>\n",
       "      <th></th>\n",
       "      <th></th>\n",
       "      <th></th>\n",
       "      <th></th>\n",
       "      <th></th>\n",
       "      <th></th>\n",
       "    </tr>\n",
       "  </thead>\n",
       "  <tbody>\n",
       "    <tr>\n",
       "      <th>2021-01-01 00:00:00</th>\n",
       "      <td>389.82</td>\n",
       "      <td>636.00</td>\n",
       "      <td>38.56</td>\n",
       "      <td>58.10</td>\n",
       "      <td>16.39</td>\n",
       "      <td>2.16</td>\n",
       "      <td>11.52</td>\n",
       "      <td>11.51</td>\n",
       "      <td>68.00</td>\n",
       "      <td>0.33</td>\n",
       "      <td>145.91</td>\n",
       "      <td>6.65</td>\n",
       "    </tr>\n",
       "    <tr>\n",
       "      <th>2021-01-01 01:00:00</th>\n",
       "      <td>396.16</td>\n",
       "      <td>635.55</td>\n",
       "      <td>24.84</td>\n",
       "      <td>53.81</td>\n",
       "      <td>22.61</td>\n",
       "      <td>1.25</td>\n",
       "      <td>13.61</td>\n",
       "      <td>11.29</td>\n",
       "      <td>67.55</td>\n",
       "      <td>0.45</td>\n",
       "      <td>189.59</td>\n",
       "      <td>6.65</td>\n",
       "    </tr>\n",
       "    <tr>\n",
       "      <th>2021-01-01 02:00:00</th>\n",
       "      <td>332.44</td>\n",
       "      <td>519.05</td>\n",
       "      <td>37.31</td>\n",
       "      <td>57.53</td>\n",
       "      <td>24.74</td>\n",
       "      <td>1.24</td>\n",
       "      <td>6.55</td>\n",
       "      <td>10.55</td>\n",
       "      <td>70.00</td>\n",
       "      <td>0.42</td>\n",
       "      <td>145.36</td>\n",
       "      <td>6.65</td>\n",
       "    </tr>\n",
       "    <tr>\n",
       "      <th>2021-01-01 03:00:00</th>\n",
       "      <td>274.54</td>\n",
       "      <td>453.33</td>\n",
       "      <td>22.92</td>\n",
       "      <td>49.74</td>\n",
       "      <td>9.11</td>\n",
       "      <td>1.37</td>\n",
       "      <td>5.68</td>\n",
       "      <td>10.12</td>\n",
       "      <td>71.94</td>\n",
       "      <td>0.28</td>\n",
       "      <td>101.87</td>\n",
       "      <td>6.65</td>\n",
       "    </tr>\n",
       "    <tr>\n",
       "      <th>2021-01-01 04:00:00</th>\n",
       "      <td>294.05</td>\n",
       "      <td>446.65</td>\n",
       "      <td>19.70</td>\n",
       "      <td>36.77</td>\n",
       "      <td>11.29</td>\n",
       "      <td>1.64</td>\n",
       "      <td>6.87</td>\n",
       "      <td>9.93</td>\n",
       "      <td>73.20</td>\n",
       "      <td>0.36</td>\n",
       "      <td>145.29</td>\n",
       "      <td>6.65</td>\n",
       "    </tr>\n",
       "  </tbody>\n",
       "</table>\n",
       "</div>"
      ],
      "text/plain": [
       "                      PM2.5    PM10     NO    NO2    SO2    CO  Ozone   Temp  \\\n",
       "DateTime                                                                       \n",
       "2021-01-01 00:00:00  389.82  636.00  38.56  58.10  16.39  2.16  11.52  11.51   \n",
       "2021-01-01 01:00:00  396.16  635.55  24.84  53.81  22.61  1.25  13.61  11.29   \n",
       "2021-01-01 02:00:00  332.44  519.05  37.31  57.53  24.74  1.24   6.55  10.55   \n",
       "2021-01-01 03:00:00  274.54  453.33  22.92  49.74   9.11  1.37   5.68  10.12   \n",
       "2021-01-01 04:00:00  294.05  446.65  19.70  36.77  11.29  1.64   6.87   9.93   \n",
       "\n",
       "                        RH    WS      WD    SR  \n",
       "DateTime                                        \n",
       "2021-01-01 00:00:00  68.00  0.33  145.91  6.65  \n",
       "2021-01-01 01:00:00  67.55  0.45  189.59  6.65  \n",
       "2021-01-01 02:00:00  70.00  0.42  145.36  6.65  \n",
       "2021-01-01 03:00:00  71.94  0.28  101.87  6.65  \n",
       "2021-01-01 04:00:00  73.20  0.36  145.29  6.65  "
      ]
     },
     "execution_count": 78,
     "metadata": {},
     "output_type": "execute_result"
    }
   ],
   "source": [
    "# Import data using datetime and set index to datetime\n",
    "df = pd.read_csv(r'C:\\Users\\91783\\Desktop\\Bhiwadi_hourly\\June2022.csv',\n",
    "                                parse_dates=['DateTime'],\n",
    "                                index_col=['DateTime'])\n",
    "\n",
    "df.head()"
   ]
  },
  {
   "cell_type": "code",
   "execution_count": 79,
   "id": "464ef2f6",
   "metadata": {},
   "outputs": [
    {
     "data": {
      "text/html": [
       "<div>\n",
       "<style scoped>\n",
       "    .dataframe tbody tr th:only-of-type {\n",
       "        vertical-align: middle;\n",
       "    }\n",
       "\n",
       "    .dataframe tbody tr th {\n",
       "        vertical-align: top;\n",
       "    }\n",
       "\n",
       "    .dataframe thead th {\n",
       "        text-align: right;\n",
       "    }\n",
       "</style>\n",
       "<table border=\"1\" class=\"dataframe\">\n",
       "  <thead>\n",
       "    <tr style=\"text-align: right;\">\n",
       "      <th></th>\n",
       "      <th>PM2.5</th>\n",
       "      <th>PM10</th>\n",
       "      <th>NO</th>\n",
       "      <th>NO2</th>\n",
       "      <th>SO2</th>\n",
       "      <th>CO</th>\n",
       "      <th>Ozone</th>\n",
       "      <th>Temp</th>\n",
       "      <th>RH</th>\n",
       "      <th>WS</th>\n",
       "      <th>WD</th>\n",
       "      <th>SR</th>\n",
       "    </tr>\n",
       "    <tr>\n",
       "      <th>DateTime</th>\n",
       "      <th></th>\n",
       "      <th></th>\n",
       "      <th></th>\n",
       "      <th></th>\n",
       "      <th></th>\n",
       "      <th></th>\n",
       "      <th></th>\n",
       "      <th></th>\n",
       "      <th></th>\n",
       "      <th></th>\n",
       "      <th></th>\n",
       "      <th></th>\n",
       "    </tr>\n",
       "  </thead>\n",
       "  <tbody>\n",
       "    <tr>\n",
       "      <th>2022-06-19 12:00:00</th>\n",
       "      <td>115.04</td>\n",
       "      <td>235.18</td>\n",
       "      <td>35.26</td>\n",
       "      <td>51.33</td>\n",
       "      <td>29.86</td>\n",
       "      <td>0.92</td>\n",
       "      <td>25.95</td>\n",
       "      <td>24.37</td>\n",
       "      <td>51.72</td>\n",
       "      <td>50.98</td>\n",
       "      <td>194.23</td>\n",
       "      <td>125.4</td>\n",
       "    </tr>\n",
       "    <tr>\n",
       "      <th>2022-06-19 13:00:00</th>\n",
       "      <td>115.04</td>\n",
       "      <td>235.18</td>\n",
       "      <td>35.26</td>\n",
       "      <td>51.33</td>\n",
       "      <td>29.86</td>\n",
       "      <td>0.92</td>\n",
       "      <td>25.95</td>\n",
       "      <td>24.37</td>\n",
       "      <td>51.72</td>\n",
       "      <td>50.98</td>\n",
       "      <td>194.23</td>\n",
       "      <td>125.4</td>\n",
       "    </tr>\n",
       "    <tr>\n",
       "      <th>2022-06-19 14:00:00</th>\n",
       "      <td>115.04</td>\n",
       "      <td>235.18</td>\n",
       "      <td>35.26</td>\n",
       "      <td>51.33</td>\n",
       "      <td>29.86</td>\n",
       "      <td>0.92</td>\n",
       "      <td>25.95</td>\n",
       "      <td>24.37</td>\n",
       "      <td>51.72</td>\n",
       "      <td>50.98</td>\n",
       "      <td>194.23</td>\n",
       "      <td>125.4</td>\n",
       "    </tr>\n",
       "    <tr>\n",
       "      <th>2022-06-19 15:00:00</th>\n",
       "      <td>115.04</td>\n",
       "      <td>235.18</td>\n",
       "      <td>35.26</td>\n",
       "      <td>51.33</td>\n",
       "      <td>29.86</td>\n",
       "      <td>0.92</td>\n",
       "      <td>25.95</td>\n",
       "      <td>24.37</td>\n",
       "      <td>51.72</td>\n",
       "      <td>50.98</td>\n",
       "      <td>194.23</td>\n",
       "      <td>125.4</td>\n",
       "    </tr>\n",
       "    <tr>\n",
       "      <th>2022-06-19 16:00:00</th>\n",
       "      <td>115.04</td>\n",
       "      <td>235.18</td>\n",
       "      <td>35.26</td>\n",
       "      <td>51.33</td>\n",
       "      <td>29.86</td>\n",
       "      <td>0.92</td>\n",
       "      <td>25.95</td>\n",
       "      <td>24.37</td>\n",
       "      <td>51.72</td>\n",
       "      <td>50.98</td>\n",
       "      <td>194.23</td>\n",
       "      <td>125.4</td>\n",
       "    </tr>\n",
       "  </tbody>\n",
       "</table>\n",
       "</div>"
      ],
      "text/plain": [
       "                      PM2.5    PM10     NO    NO2    SO2    CO  Ozone   Temp  \\\n",
       "DateTime                                                                       \n",
       "2022-06-19 12:00:00  115.04  235.18  35.26  51.33  29.86  0.92  25.95  24.37   \n",
       "2022-06-19 13:00:00  115.04  235.18  35.26  51.33  29.86  0.92  25.95  24.37   \n",
       "2022-06-19 14:00:00  115.04  235.18  35.26  51.33  29.86  0.92  25.95  24.37   \n",
       "2022-06-19 15:00:00  115.04  235.18  35.26  51.33  29.86  0.92  25.95  24.37   \n",
       "2022-06-19 16:00:00  115.04  235.18  35.26  51.33  29.86  0.92  25.95  24.37   \n",
       "\n",
       "                        RH     WS      WD     SR  \n",
       "DateTime                                          \n",
       "2022-06-19 12:00:00  51.72  50.98  194.23  125.4  \n",
       "2022-06-19 13:00:00  51.72  50.98  194.23  125.4  \n",
       "2022-06-19 14:00:00  51.72  50.98  194.23  125.4  \n",
       "2022-06-19 15:00:00  51.72  50.98  194.23  125.4  \n",
       "2022-06-19 16:00:00  51.72  50.98  194.23  125.4  "
      ]
     },
     "execution_count": 79,
     "metadata": {},
     "output_type": "execute_result"
    }
   ],
   "source": [
    "df.tail()"
   ]
  },
  {
   "cell_type": "code",
   "execution_count": 80,
   "id": "4f502e8a",
   "metadata": {},
   "outputs": [
    {
     "data": {
      "text/plain": [
       "<AxesSubplot:>"
      ]
     },
     "execution_count": 80,
     "metadata": {},
     "output_type": "execute_result"
    },
    {
     "data": {
      "image/png": "[encoded data removed]",
      "text/plain": [
       "<Figure size 640x480 with 1 Axes>"
      ]
     },
     "metadata": {},
     "output_type": "display_data"
    }
   ],
   "source": [
    "#Box plot\n",
    "#pd.options.display.mpl_style = False\n",
    "df.boxplot()"
   ]
  },
  {
   "cell_type": "code",
   "execution_count": 81,
   "id": "9663bbc2",
   "metadata": {},
   "outputs": [
    {
     "data": {
      "text/plain": [
       "['PM2.5',\n",
       " 'PM10',\n",
       " 'NO',\n",
       " 'NO2',\n",
       " 'SO2',\n",
       " 'CO',\n",
       " 'Ozone',\n",
       " 'Temp',\n",
       " 'RH',\n",
       " 'WS',\n",
       " 'WD',\n",
       " 'SR']"
      ]
     },
     "execution_count": 81,
     "metadata": {},
     "output_type": "execute_result"
    }
   ],
   "source": [
    "dataset_columns = df.columns.tolist()\n",
    "dataset_columns"
   ]
  },
  {
   "cell_type": "code",
   "execution_count": 82,
   "id": "3d5aa1bc",
   "metadata": {},
   "outputs": [
    {
     "data": {
      "image/png": "[encoded data removed]",
      "text/plain": [
       "<Figure size 480x480 with 2 Axes>"
      ]
     },
     "metadata": {},
     "output_type": "display_data"
    }
   ],
   "source": [
    "#Analysing relationship between different features\n",
    "# cor_cols = ['pollution', 'wnd_spd', 'rain', 'snow', 'temp']\n",
    "cor_cols = dataset_columns\n",
    "plt.matshow(df.corr())\n",
    "plt.xticks(range(len(cor_cols)), cor_cols)\n",
    "plt.yticks(range(len(cor_cols)), cor_cols)\n",
    "plt.colorbar()\n",
    "plt.show()"
   ]
  },
  {
   "cell_type": "code",
   "execution_count": 83,
   "id": "9e56cdb8",
   "metadata": {},
   "outputs": [
    {
     "data": {
      "text/plain": [
       "array([[3.8982e+02, 6.3600e+02, 3.8560e+01, 5.8100e+01, 1.6390e+01,\n",
       "        2.1600e+00, 1.1520e+01, 1.1510e+01, 6.8000e+01, 3.3000e-01,\n",
       "        1.4591e+02, 1.1200e+02],\n",
       "       [3.9616e+02, 6.3555e+02, 2.4840e+01, 5.3810e+01, 2.2610e+01,\n",
       "        1.2500e+00, 1.3610e+01, 1.1290e+01, 6.7550e+01, 4.5000e-01,\n",
       "        1.8959e+02, 1.1200e+02],\n",
       "       [3.3244e+02, 5.1905e+02, 3.7310e+01, 5.7530e+01, 2.4740e+01,\n",
       "        1.2400e+00, 6.5500e+00, 1.0550e+01, 7.0000e+01, 4.2000e-01,\n",
       "        1.4536e+02, 1.1200e+02],\n",
       "       [2.7454e+02, 4.5333e+02, 2.2920e+01, 4.9740e+01, 9.1100e+00,\n",
       "        1.3700e+00, 5.6800e+00, 1.0120e+01, 7.1940e+01, 2.8000e-01,\n",
       "        1.0187e+02, 1.1200e+02],\n",
       "       [2.9405e+02, 4.4665e+02, 1.9700e+01, 3.6770e+01, 1.1290e+01,\n",
       "        1.6400e+00, 6.8700e+00, 9.9300e+00, 7.3200e+01, 3.6000e-01,\n",
       "        1.4529e+02, 1.1200e+02],\n",
       "       [2.7336e+02, 3.9452e+02, 2.0950e+01, 4.0040e+01, 1.3640e+01,\n",
       "        1.5100e+00, 6.2300e+00, 9.4800e+00, 7.2050e+01, 4.0000e-01,\n",
       "        1.6613e+02, 1.1200e+02],\n",
       "       [2.3834e+02, 3.5827e+02, 3.1650e+01, 4.7560e+01, 8.3600e+00,\n",
       "        1.7500e+00, 3.9900e+00, 8.9200e+00, 6.9010e+01, 3.9000e-01,\n",
       "        1.4135e+02, 1.1200e+02],\n",
       "       [2.4724e+02, 3.5565e+02, 3.3830e+01, 5.1020e+01, 1.8700e+01,\n",
       "        2.2500e+00, 9.5700e+00, 8.9000e+00, 6.6800e+01, 3.4000e-01,\n",
       "        1.5434e+02, 7.4500e+02],\n",
       "       [2.8884e+02, 4.3740e+02, 3.7410e+01, 6.7340e+01, 3.2060e+01,\n",
       "        2.2500e+00, 6.5000e+00, 1.0960e+01, 5.7640e+01, 3.2000e-01,\n",
       "        1.5969e+02, 2.0140e+03],\n",
       "       [2.9870e+02, 4.7068e+02, 1.5830e+01, 6.3390e+01, 3.2130e+01,\n",
       "        1.3400e+00, 1.4050e+01, 1.4850e+01, 4.3410e+01, 4.3000e-01,\n",
       "        1.3692e+02, 2.8980e+03],\n",
       "       [2.7320e+02, 4.0345e+02, 1.2750e+01, 3.5060e+01, 9.2740e+01,\n",
       "        8.2000e-01, 4.7430e+01, 1.7230e+01, 3.2250e+01, 6.1000e-01,\n",
       "        1.2340e+02, 3.5600e+03]], dtype=float32)"
      ]
     },
     "execution_count": 83,
     "metadata": {},
     "output_type": "execute_result"
    }
   ],
   "source": [
    "from sklearn.preprocessing import LabelEncoder\n",
    "\n",
    "# Encode non categorical values\n",
    "values = df.values\n",
    "encoder = LabelEncoder()\n",
    "values[:,11] = encoder.fit_transform(values[:,11])\n",
    "values = values.astype('float32')\n",
    "values[:11]"
   ]
  },
  {
   "cell_type": "code",
   "execution_count": 84,
   "id": "d44323cd",
   "metadata": {},
   "outputs": [],
   "source": [
    "#Normalising data\n",
    "from sklearn.preprocessing import MinMaxScaler\n",
    "\n",
    "scaler = MinMaxScaler(feature_range=(0, 1))\n",
    "scaled_dataset = scaler.fit_transform(values)"
   ]
  },
  {
   "cell_type": "code",
   "execution_count": 85,
   "id": "ab76f7fb",
   "metadata": {},
   "outputs": [],
   "source": [
    "#Creating a window for previous data\n",
    "def to_supervised(train):\n",
    "  window_size = 4\n",
    "  X = []\n",
    "  Y = []\n",
    "  for i in range(window_size, len(train)):\n",
    "    X.append(train[i-window_size:i,:])\n",
    "    Y.append(train[i,0:1])\n",
    "    \n",
    "  return X,Y"
   ]
  },
  {
   "cell_type": "code",
   "execution_count": 86,
   "id": "311dc97c",
   "metadata": {},
   "outputs": [
    {
     "name": "stdout",
     "output_type": "stream",
     "text": [
      "Y (12829, 1)\n",
      "X (12829, 4, 12)\n"
     ]
    }
   ],
   "source": [
    "X, Y = to_supervised(scaled_dataset)\n",
    "X = np.array(X)\n",
    "Y = np.array(Y)\n",
    "print('Y' ,Y.shape)\n",
    "print('X' ,X.shape)"
   ]
  },
  {
   "cell_type": "code",
   "execution_count": 87,
   "id": "ccd5de1d",
   "metadata": {},
   "outputs": [
    {
     "name": "stdout",
     "output_type": "stream",
     "text": [
      "X_train (10264, 4, 12)\n",
      "X_test (2565, 4, 12)\n",
      "Y_train (10264, 1)\n",
      "Y_test (2565, 1)\n"
     ]
    }
   ],
   "source": [
    "#Splitting the dataset 12829*0.2=2565 => - 10264\n",
    "#Splitting the dataset 12829*0.3=8981 => -8981\n",
    "n_train = 2565\n",
    "X_train, X_test = X[n_train:,] , X[:n_train,]\n",
    "print('X_train' ,X_train.shape)\n",
    "print('X_test' ,X_test.shape)\n",
    "\n",
    "Y_train, Y_test = Y[n_train:,] , Y[:n_train,]\n",
    "print('Y_train' ,Y_train.shape)\n",
    "print('Y_test' ,Y_test.shape)"
   ]
  },
  {
   "cell_type": "code",
   "execution_count": 88,
   "id": "a59bf702",
   "metadata": {},
   "outputs": [],
   "source": [
    "\n",
    "#Importing LSTM model\n",
    "from tensorflow import keras\n",
    "from tensorflow.keras import layers\n",
    "from keras.models import Sequential\n",
    "from keras.layers import Dense, Dropout,LSTM\n",
    "import tensorflow as tf\n",
    "model = Sequential()\n",
    "\n",
    "model.add(LSTM(units = 100, return_sequences = True, input_shape=(X_train.shape[1], X_train.shape[2])))\n",
    "model.add(Dropout(0.2))\n",
    "\n",
    "model.add(LSTM(units = 100, return_sequences = True))\n",
    "model.add(Dropout(0.2))\n",
    "\n",
    "model.add(LSTM(units = 100))\n",
    "model.add(Dropout(0.2))\n",
    "\n",
    "model.add(Dense(units = 1))\n",
    "\n",
    "#model.compile(optimizer = 'adam', loss = 'mean_squared_error')     \n",
    "opt = keras.optimizers.Adam(learning_rate=0.1)\n",
    "model.compile(loss='mean_squared_error', optimizer=opt)"
   ]
  },
  {
   "cell_type": "code",
   "execution_count": 89,
   "id": "a7edfa82",
   "metadata": {},
   "outputs": [
    {
     "name": "stdout",
     "output_type": "stream",
     "text": [
      "Epoch 1/50\n",
      "321/321 - 8s - loss: 0.3421 - val_loss: 0.0158 - 8s/epoch - 24ms/step\n",
      "Epoch 2/50\n",
      "321/321 - 4s - loss: 0.0121 - val_loss: 0.0182 - 4s/epoch - 12ms/step\n",
      "Epoch 3/50\n",
      "321/321 - 4s - loss: 0.0118 - val_loss: 0.0108 - 4s/epoch - 12ms/step\n",
      "Epoch 4/50\n",
      "321/321 - 4s - loss: 0.0108 - val_loss: 0.0119 - 4s/epoch - 12ms/step\n",
      "Epoch 5/50\n",
      "321/321 - 4s - loss: 0.0110 - val_loss: 0.0125 - 4s/epoch - 12ms/step\n",
      "Epoch 6/50\n",
      "321/321 - 4s - loss: 0.0112 - val_loss: 0.0129 - 4s/epoch - 12ms/step\n",
      "Epoch 7/50\n",
      "321/321 - 4s - loss: 0.0113 - val_loss: 0.0137 - 4s/epoch - 12ms/step\n",
      "Epoch 8/50\n",
      "321/321 - 4s - loss: 0.0116 - val_loss: 0.0151 - 4s/epoch - 12ms/step\n",
      "Epoch 9/50\n",
      "321/321 - 4s - loss: 0.0119 - val_loss: 0.0171 - 4s/epoch - 12ms/step\n",
      "Epoch 10/50\n",
      "321/321 - 4s - loss: 0.0122 - val_loss: 0.0190 - 4s/epoch - 12ms/step\n",
      "Epoch 11/50\n",
      "321/321 - 4s - loss: 0.0124 - val_loss: 0.0211 - 4s/epoch - 12ms/step\n",
      "Epoch 12/50\n",
      "321/321 - 4s - loss: 0.0125 - val_loss: 0.0228 - 4s/epoch - 13ms/step\n",
      "Epoch 13/50\n",
      "321/321 - 5s - loss: 0.0126 - val_loss: 0.0243 - 5s/epoch - 14ms/step\n",
      "Epoch 14/50\n",
      "321/321 - 4s - loss: 0.0127 - val_loss: 0.0256 - 4s/epoch - 14ms/step\n",
      "Epoch 15/50\n",
      "321/321 - 4s - loss: 0.0127 - val_loss: 0.0265 - 4s/epoch - 12ms/step\n",
      "Epoch 16/50\n",
      "321/321 - 4s - loss: 0.0127 - val_loss: 0.0273 - 4s/epoch - 13ms/step\n",
      "Epoch 17/50\n",
      "321/321 - 4s - loss: 0.0127 - val_loss: 0.0278 - 4s/epoch - 13ms/step\n",
      "Epoch 18/50\n",
      "321/321 - 4s - loss: 0.0128 - val_loss: 0.0282 - 4s/epoch - 12ms/step\n",
      "Epoch 19/50\n",
      "321/321 - 4s - loss: 0.0128 - val_loss: 0.0284 - 4s/epoch - 13ms/step\n",
      "Epoch 20/50\n",
      "321/321 - 4s - loss: 0.0128 - val_loss: 0.0287 - 4s/epoch - 13ms/step\n",
      "Epoch 21/50\n",
      "321/321 - 4s - loss: 0.0128 - val_loss: 0.0289 - 4s/epoch - 12ms/step\n",
      "Epoch 22/50\n",
      "321/321 - 4s - loss: 0.0128 - val_loss: 0.0289 - 4s/epoch - 13ms/step\n",
      "Epoch 23/50\n",
      "321/321 - 4s - loss: 0.0128 - val_loss: 0.0290 - 4s/epoch - 12ms/step\n",
      "Epoch 24/50\n",
      "321/321 - 4s - loss: 0.0128 - val_loss: 0.0292 - 4s/epoch - 13ms/step\n",
      "Epoch 25/50\n",
      "321/321 - 4s - loss: 0.0128 - val_loss: 0.0291 - 4s/epoch - 14ms/step\n",
      "Epoch 26/50\n",
      "321/321 - 4s - loss: 0.0128 - val_loss: 0.0291 - 4s/epoch - 13ms/step\n",
      "Epoch 27/50\n",
      "321/321 - 4s - loss: 0.0128 - val_loss: 0.0419 - 4s/epoch - 13ms/step\n",
      "Epoch 28/50\n",
      "321/321 - 4s - loss: 0.0136 - val_loss: 0.0287 - 4s/epoch - 13ms/step\n",
      "Epoch 29/50\n",
      "321/321 - 4s - loss: 0.0128 - val_loss: 0.0288 - 4s/epoch - 12ms/step\n",
      "Epoch 30/50\n",
      "321/321 - 4s - loss: 0.0128 - val_loss: 0.0289 - 4s/epoch - 12ms/step\n",
      "Epoch 31/50\n",
      "321/321 - 4s - loss: 0.0128 - val_loss: 0.0290 - 4s/epoch - 13ms/step\n",
      "Epoch 32/50\n",
      "321/321 - 4s - loss: 0.0128 - val_loss: 0.0290 - 4s/epoch - 13ms/step\n",
      "Epoch 33/50\n",
      "321/321 - 4s - loss: 0.0128 - val_loss: 0.0291 - 4s/epoch - 12ms/step\n",
      "Epoch 34/50\n",
      "321/321 - 4s - loss: 0.0128 - val_loss: 0.0291 - 4s/epoch - 12ms/step\n",
      "Epoch 35/50\n",
      "321/321 - 4s - loss: 0.0128 - val_loss: 0.0291 - 4s/epoch - 13ms/step\n",
      "Epoch 36/50\n",
      "321/321 - 4s - loss: 0.0128 - val_loss: 0.0291 - 4s/epoch - 12ms/step\n",
      "Epoch 37/50\n",
      "321/321 - 4s - loss: 0.0128 - val_loss: 0.0291 - 4s/epoch - 12ms/step\n",
      "Epoch 38/50\n",
      "321/321 - 4s - loss: 0.0128 - val_loss: 0.0291 - 4s/epoch - 12ms/step\n",
      "Epoch 39/50\n",
      "321/321 - 4s - loss: 0.0128 - val_loss: 0.0291 - 4s/epoch - 12ms/step\n",
      "Epoch 40/50\n",
      "321/321 - 4s - loss: 0.0128 - val_loss: 0.0291 - 4s/epoch - 12ms/step\n",
      "Epoch 41/50\n",
      "321/321 - 4s - loss: 0.0128 - val_loss: 0.0291 - 4s/epoch - 13ms/step\n",
      "Epoch 42/50\n",
      "321/321 - 4s - loss: 0.0128 - val_loss: 0.0291 - 4s/epoch - 12ms/step\n",
      "Epoch 43/50\n",
      "321/321 - 4s - loss: 0.0128 - val_loss: 0.0293 - 4s/epoch - 12ms/step\n",
      "Epoch 44/50\n",
      "321/321 - 4s - loss: 0.0128 - val_loss: 0.0292 - 4s/epoch - 12ms/step\n",
      "Epoch 45/50\n",
      "321/321 - 4s - loss: 0.0128 - val_loss: 0.0292 - 4s/epoch - 12ms/step\n",
      "Epoch 46/50\n",
      "321/321 - 4s - loss: 0.0128 - val_loss: 0.0292 - 4s/epoch - 12ms/step\n",
      "Epoch 47/50\n",
      "321/321 - 4s - loss: 0.0128 - val_loss: 0.0292 - 4s/epoch - 12ms/step\n",
      "Epoch 48/50\n",
      "321/321 - 4s - loss: 0.0128 - val_loss: 0.0291 - 4s/epoch - 12ms/step\n",
      "Epoch 49/50\n",
      "321/321 - 4s - loss: 0.0128 - val_loss: 0.0291 - 4s/epoch - 13ms/step\n",
      "Epoch 50/50\n",
      "321/321 - 4s - loss: 0.0128 - val_loss: 0.0291 - 4s/epoch - 12ms/step\n"
     ]
    }
   ],
   "source": [
    "history = model.fit(X_train, Y_train, epochs=50,\n",
    "                    batch_size=32, validation_data=(X_test,Y_test),\n",
    "                    verbose=2, shuffle=False)"
   ]
  },
  {
   "cell_type": "code",
   "execution_count": 90,
   "id": "c7e521fa",
   "metadata": {},
   "outputs": [
    {
     "name": "stdout",
     "output_type": "stream",
     "text": [
      "81/81 [==============================] - 1s 3ms/step\n",
      "0.029136913\n",
      "0.17069538\n"
     ]
    }
   ],
   "source": [
    "#Taking predictions\n",
    "Y_pred = model.predict(X_test)\n",
    "\n",
    "from sklearn.metrics import mean_squared_error\n",
    "mse = mean_squared_error(Y_test, Y_pred)\n",
    "\n",
    "print(mse)\n",
    "rmse = np.sqrt(mse)\n",
    "print(rmse)"
   ]
  },
  {
   "cell_type": "code",
   "execution_count": 91,
   "id": "fe28346f",
   "metadata": {},
   "outputs": [
    {
     "name": "stdout",
     "output_type": "stream",
     "text": [
      "MAPE 65.94660878181458\n"
     ]
    }
   ],
   "source": [
    "def mean_absolute_percentage_error(y_true, y_pred): \n",
    "    y_true, y_pred = np.array(y_true), np.array(y_pred)\n",
    "    return np.mean(np.abs((y_true - y_pred) / y_true)) * 100\n",
    "\n",
    "mape = mean_absolute_percentage_error(Y_test, Y_pred)\n",
    "print('MAPE', mape)"
   ]
  },
  {
   "cell_type": "code",
   "execution_count": 92,
   "id": "8575ddb1",
   "metadata": {},
   "outputs": [
    {
     "data": {
      "text/plain": [
       "-2.0320635940479783"
      ]
     },
     "execution_count": 92,
     "metadata": {},
     "output_type": "execute_result"
    }
   ],
   "source": [
    "from sklearn.metrics import r2_score\n",
    "r2 = r2_score(Y_test, Y_pred)\n",
    "r2"
   ]
  },
  {
   "cell_type": "code",
   "execution_count": 93,
   "id": "80f1ede2",
   "metadata": {},
   "outputs": [
    {
     "data": {
      "image/png": "[encoded data removed]",
      "text/plain": [
       "<Figure size 640x480 with 1 Axes>"
      ]
     },
     "metadata": {},
     "output_type": "display_data"
    }
   ],
   "source": [
    "# plot history\n",
    "import matplotlib.pyplot as plt\n",
    "plt.plot(history.history['loss'], label='train_loss')\n",
    "plt.plot(history.history['val_loss'], label='Val_loss')\n",
    "plt.legend()\n",
    "plt.show()"
   ]
  },
  {
   "cell_type": "code",
   "execution_count": 94,
   "id": "2f29bc3d",
   "metadata": {},
   "outputs": [
    {
     "name": "stdout",
     "output_type": "stream",
     "text": [
      "ME\n",
      "-0.13974017\n",
      "MAE\n",
      "0.14083269\n",
      "MPE\n",
      "-0.54416615\n",
      "RMSE\n",
      "0.17069538042146656\n"
     ]
    }
   ],
   "source": [
    "me = np.mean(Y_pred - Y_test)\n",
    "print('ME')\n",
    "print(me)\n",
    "mae = np.mean(np.abs(Y_pred - Y_test))    # MAE\n",
    "print('MAE')\n",
    "print(mae)\n",
    "mpe = np.mean((Y_pred - Y_test)/Y_test)   # MPE\n",
    "print('MPE')\n",
    "print(mpe)\n",
    "rmse = np.mean((Y_pred - Y_test)**2)**.5  # RMSE\n",
    "print('RMSE')\n",
    "print(rmse)\n",
    " "
   ]
  },
  {
   "cell_type": "code",
   "execution_count": null,
   "id": "82b07c73",
   "metadata": {},
   "outputs": [],
   "source": []
  }
 ],
 "metadata": {
  "kernelspec": {
   "display_name": "Python 3 (ipykernel)",
   "language": "python",
   "name": "python3"
  },
  "language_info": {
   "codemirror_mode": {
    "name": "ipython",
    "version": 3
   },
   "file_extension": ".py",
   "mimetype": "text/x-python",
   "name": "python",
   "nbconvert_exporter": "python",
   "pygments_lexer": "ipython3",
   "version": "3.9.7"
  }
 },
 "nbformat": 4,
 "nbformat_minor": 5
}
